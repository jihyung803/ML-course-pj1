{
 "cells": [
  {
   "cell_type": "code",
   "execution_count": 40,
   "metadata": {},
   "outputs": [],
   "source": [
    "import numpy as np\n",
    "import os\n",
    "import pandas as pd\n",
    "import nbimporter\n",
    "from pred import preprocess_data\n",
    "from sklearn.ensemble import RandomForestRegressor\n",
    "from sklearn.metrics import mean_squared_error\n",
    "from sklearn.model_selection import train_test_split, GridSearchCV\n",
    "from sklearn.preprocessing import PolynomialFeatures\n",
    "from sklearn.pipeline import Pipeline, make_pipeline\n",
    "from sklearn.compose import ColumnTransformer\n",
    "from sklearn.impute import SimpleImputer\n",
    "from sklearn.preprocessing import StandardScaler, OneHotEncoder\n",
    "from sklearn.model_selection import RandomizedSearchCV"
   ]
  },
  {
   "cell_type": "code",
   "execution_count": 41,
   "metadata": {},
   "outputs": [],
   "source": [
    "df = pd.read_csv('../cleaned_data/merged_data.csv')"
   ]
  },
  {
   "cell_type": "code",
   "execution_count": 42,
   "metadata": {},
   "outputs": [],
   "source": [
    "X = df[['County', 'State', 'Total', 'Less than $10,000', '$10,000 to $14,999', '$15,000 to $24,999', '$25,000 to $34,999', '$35,000 to $49,999', '$50,000 to $74,999', '$75,000 to $99,999', '$100,000 to $149,999', '$150,000 to $199,999', '$200,000 or more', 'Median income', 'Mean income', 'Sex', 'ethnicity']]\n",
    "y = df['Heart Disease Mortality']"
   ]
  },
  {
   "cell_type": "code",
   "execution_count": 43,
   "metadata": {},
   "outputs": [],
   "source": [
    "X_train, X_test, y_train, y_test = train_test_split(X, y, random_state=42)\n"
   ]
  },
  {
   "cell_type": "code",
   "execution_count": 44,
   "metadata": {},
   "outputs": [],
   "source": [
    "X_train, X_test, y_train, y_test, preprocessor = preprocess_data(df)"
   ]
  },
  {
   "cell_type": "code",
   "execution_count": 45,
   "metadata": {},
   "outputs": [],
   "source": [
    "rf_regressor = make_pipeline(preprocessor, RandomForestRegressor(random_state = 42))"
   ]
  },
  {
   "cell_type": "code",
   "execution_count": 46,
   "metadata": {},
   "outputs": [],
   "source": [
    "randomforest_search_grid = {\n",
    "    \"randomforestregressor__n_estimators\": [50, 100, 200, 300],\n",
    "    \"randomforestregressor__max_depth\": [None, 3, 5, 7],\n",
    "    \"randomforestregressor__max_features\": [None, \"sqrt\", \"log2\"],\n",
    "    \"randomforestregressor__min_samples_split\": range(2, 5),\n",
    "    \"randomforestregressor__min_samples_leaf\": range(1, 5)\n",
    "}"
   ]
  },
  {
   "cell_type": "code",
   "execution_count": 47,
   "metadata": {},
   "outputs": [],
   "source": [
    "model = RandomizedSearchCV(estimator = rf_regressor, \n",
    "                                         param_distributions = randomforest_search_grid, \n",
    "                                         n_iter = 50, scoring = \"neg_root_mean_squared_error\", \n",
    "                                         cv = 3, n_jobs = -1, random_state = 42)"
   ]
  },
  {
   "cell_type": "code",
   "execution_count": 48,
   "metadata": {},
   "outputs": [
    {
     "data": {
      "text/html": [
       "<style>#sk-container-id-2 {color: black;}#sk-container-id-2 pre{padding: 0;}#sk-container-id-2 div.sk-toggleable {background-color: white;}#sk-container-id-2 label.sk-toggleable__label {cursor: pointer;display: block;width: 100%;margin-bottom: 0;padding: 0.3em;box-sizing: border-box;text-align: center;}#sk-container-id-2 label.sk-toggleable__label-arrow:before {content: \"▸\";float: left;margin-right: 0.25em;color: #696969;}#sk-container-id-2 label.sk-toggleable__label-arrow:hover:before {color: black;}#sk-container-id-2 div.sk-estimator:hover label.sk-toggleable__label-arrow:before {color: black;}#sk-container-id-2 div.sk-toggleable__content {max-height: 0;max-width: 0;overflow: hidden;text-align: left;background-color: #f0f8ff;}#sk-container-id-2 div.sk-toggleable__content pre {margin: 0.2em;color: black;border-radius: 0.25em;background-color: #f0f8ff;}#sk-container-id-2 input.sk-toggleable__control:checked~div.sk-toggleable__content {max-height: 200px;max-width: 100%;overflow: auto;}#sk-container-id-2 input.sk-toggleable__control:checked~label.sk-toggleable__label-arrow:before {content: \"▾\";}#sk-container-id-2 div.sk-estimator input.sk-toggleable__control:checked~label.sk-toggleable__label {background-color: #d4ebff;}#sk-container-id-2 div.sk-label input.sk-toggleable__control:checked~label.sk-toggleable__label {background-color: #d4ebff;}#sk-container-id-2 input.sk-hidden--visually {border: 0;clip: rect(1px 1px 1px 1px);clip: rect(1px, 1px, 1px, 1px);height: 1px;margin: -1px;overflow: hidden;padding: 0;position: absolute;width: 1px;}#sk-container-id-2 div.sk-estimator {font-family: monospace;background-color: #f0f8ff;border: 1px dotted black;border-radius: 0.25em;box-sizing: border-box;margin-bottom: 0.5em;}#sk-container-id-2 div.sk-estimator:hover {background-color: #d4ebff;}#sk-container-id-2 div.sk-parallel-item::after {content: \"\";width: 100%;border-bottom: 1px solid gray;flex-grow: 1;}#sk-container-id-2 div.sk-label:hover label.sk-toggleable__label {background-color: #d4ebff;}#sk-container-id-2 div.sk-serial::before {content: \"\";position: absolute;border-left: 1px solid gray;box-sizing: border-box;top: 0;bottom: 0;left: 50%;z-index: 0;}#sk-container-id-2 div.sk-serial {display: flex;flex-direction: column;align-items: center;background-color: white;padding-right: 0.2em;padding-left: 0.2em;position: relative;}#sk-container-id-2 div.sk-item {position: relative;z-index: 1;}#sk-container-id-2 div.sk-parallel {display: flex;align-items: stretch;justify-content: center;background-color: white;position: relative;}#sk-container-id-2 div.sk-item::before, #sk-container-id-2 div.sk-parallel-item::before {content: \"\";position: absolute;border-left: 1px solid gray;box-sizing: border-box;top: 0;bottom: 0;left: 50%;z-index: -1;}#sk-container-id-2 div.sk-parallel-item {display: flex;flex-direction: column;z-index: 1;position: relative;background-color: white;}#sk-container-id-2 div.sk-parallel-item:first-child::after {align-self: flex-end;width: 50%;}#sk-container-id-2 div.sk-parallel-item:last-child::after {align-self: flex-start;width: 50%;}#sk-container-id-2 div.sk-parallel-item:only-child::after {width: 0;}#sk-container-id-2 div.sk-dashed-wrapped {border: 1px dashed gray;margin: 0 0.4em 0.5em 0.4em;box-sizing: border-box;padding-bottom: 0.4em;background-color: white;}#sk-container-id-2 div.sk-label label {font-family: monospace;font-weight: bold;display: inline-block;line-height: 1.2em;}#sk-container-id-2 div.sk-label-container {text-align: center;}#sk-container-id-2 div.sk-container {/* jupyter's `normalize.less` sets `[hidden] { display: none; }` but bootstrap.min.css set `[hidden] { display: none !important; }` so we also need the `!important` here to be able to override the default hidden behavior on the sphinx rendered scikit-learn.org. See: https://github.com/scikit-learn/scikit-learn/issues/21755 */display: inline-block !important;position: relative;}#sk-container-id-2 div.sk-text-repr-fallback {display: none;}</style><div id=\"sk-container-id-2\" class=\"sk-top-container\"><div class=\"sk-text-repr-fallback\"><pre>RandomizedSearchCV(cv=3,\n",
       "                   estimator=Pipeline(steps=[(&#x27;columntransformer&#x27;,\n",
       "                                              ColumnTransformer(transformers=[(&#x27;cat&#x27;,\n",
       "                                                                               Pipeline(steps=[(&#x27;imputer&#x27;,\n",
       "                                                                                                SimpleImputer(strategy=&#x27;most_frequent&#x27;)),\n",
       "                                                                                               (&#x27;onehot&#x27;,\n",
       "                                                                                                OneHotEncoder(handle_unknown=&#x27;ignore&#x27;))]),\n",
       "                                                                               [&#x27;County&#x27;,\n",
       "                                                                                &#x27;State&#x27;,\n",
       "                                                                                &#x27;Total&#x27;,\n",
       "                                                                                &#x27;Median &#x27;\n",
       "                                                                                &#x27;income&#x27;,\n",
       "                                                                                &#x27;Mean &#x27;\n",
       "                                                                                &#x27;income&#x27;,\n",
       "                                                                                &#x27;Sex&#x27;,\n",
       "                                                                                &#x27;ethnicity&#x27;]),\n",
       "                                                                              (&#x27;pct&#x27;,\n",
       "                                                                               Pipeline(steps=[(&#x27;custom&#x27;,\n",
       "                                                                                                CustomPre...\n",
       "                   n_iter=50, n_jobs=-1,\n",
       "                   param_distributions={&#x27;randomforestregressor__max_depth&#x27;: [None,\n",
       "                                                                             3,\n",
       "                                                                             5,\n",
       "                                                                             7],\n",
       "                                        &#x27;randomforestregressor__max_features&#x27;: [None,\n",
       "                                                                                &#x27;sqrt&#x27;,\n",
       "                                                                                &#x27;log2&#x27;],\n",
       "                                        &#x27;randomforestregressor__min_samples_leaf&#x27;: range(1, 5),\n",
       "                                        &#x27;randomforestregressor__min_samples_split&#x27;: range(2, 5),\n",
       "                                        &#x27;randomforestregressor__n_estimators&#x27;: [50,\n",
       "                                                                                100,\n",
       "                                                                                200,\n",
       "                                                                                300]},\n",
       "                   random_state=42, scoring=&#x27;neg_root_mean_squared_error&#x27;)</pre><b>In a Jupyter environment, please rerun this cell to show the HTML representation or trust the notebook. <br />On GitHub, the HTML representation is unable to render, please try loading this page with nbviewer.org.</b></div><div class=\"sk-container\" hidden><div class=\"sk-item sk-dashed-wrapped\"><div class=\"sk-label-container\"><div class=\"sk-label sk-toggleable\"><input class=\"sk-toggleable__control sk-hidden--visually\" id=\"sk-estimator-id-8\" type=\"checkbox\" ><label for=\"sk-estimator-id-8\" class=\"sk-toggleable__label sk-toggleable__label-arrow\">RandomizedSearchCV</label><div class=\"sk-toggleable__content\"><pre>RandomizedSearchCV(cv=3,\n",
       "                   estimator=Pipeline(steps=[(&#x27;columntransformer&#x27;,\n",
       "                                              ColumnTransformer(transformers=[(&#x27;cat&#x27;,\n",
       "                                                                               Pipeline(steps=[(&#x27;imputer&#x27;,\n",
       "                                                                                                SimpleImputer(strategy=&#x27;most_frequent&#x27;)),\n",
       "                                                                                               (&#x27;onehot&#x27;,\n",
       "                                                                                                OneHotEncoder(handle_unknown=&#x27;ignore&#x27;))]),\n",
       "                                                                               [&#x27;County&#x27;,\n",
       "                                                                                &#x27;State&#x27;,\n",
       "                                                                                &#x27;Total&#x27;,\n",
       "                                                                                &#x27;Median &#x27;\n",
       "                                                                                &#x27;income&#x27;,\n",
       "                                                                                &#x27;Mean &#x27;\n",
       "                                                                                &#x27;income&#x27;,\n",
       "                                                                                &#x27;Sex&#x27;,\n",
       "                                                                                &#x27;ethnicity&#x27;]),\n",
       "                                                                              (&#x27;pct&#x27;,\n",
       "                                                                               Pipeline(steps=[(&#x27;custom&#x27;,\n",
       "                                                                                                CustomPre...\n",
       "                   n_iter=50, n_jobs=-1,\n",
       "                   param_distributions={&#x27;randomforestregressor__max_depth&#x27;: [None,\n",
       "                                                                             3,\n",
       "                                                                             5,\n",
       "                                                                             7],\n",
       "                                        &#x27;randomforestregressor__max_features&#x27;: [None,\n",
       "                                                                                &#x27;sqrt&#x27;,\n",
       "                                                                                &#x27;log2&#x27;],\n",
       "                                        &#x27;randomforestregressor__min_samples_leaf&#x27;: range(1, 5),\n",
       "                                        &#x27;randomforestregressor__min_samples_split&#x27;: range(2, 5),\n",
       "                                        &#x27;randomforestregressor__n_estimators&#x27;: [50,\n",
       "                                                                                100,\n",
       "                                                                                200,\n",
       "                                                                                300]},\n",
       "                   random_state=42, scoring=&#x27;neg_root_mean_squared_error&#x27;)</pre></div></div></div><div class=\"sk-parallel\"><div class=\"sk-parallel-item\"><div class=\"sk-item\"><div class=\"sk-label-container\"><div class=\"sk-label sk-toggleable\"><input class=\"sk-toggleable__control sk-hidden--visually\" id=\"sk-estimator-id-9\" type=\"checkbox\" ><label for=\"sk-estimator-id-9\" class=\"sk-toggleable__label sk-toggleable__label-arrow\">estimator: Pipeline</label><div class=\"sk-toggleable__content\"><pre>Pipeline(steps=[(&#x27;columntransformer&#x27;,\n",
       "                 ColumnTransformer(transformers=[(&#x27;cat&#x27;,\n",
       "                                                  Pipeline(steps=[(&#x27;imputer&#x27;,\n",
       "                                                                   SimpleImputer(strategy=&#x27;most_frequent&#x27;)),\n",
       "                                                                  (&#x27;onehot&#x27;,\n",
       "                                                                   OneHotEncoder(handle_unknown=&#x27;ignore&#x27;))]),\n",
       "                                                  [&#x27;County&#x27;, &#x27;State&#x27;, &#x27;Total&#x27;,\n",
       "                                                   &#x27;Median income&#x27;,\n",
       "                                                   &#x27;Mean income&#x27;, &#x27;Sex&#x27;,\n",
       "                                                   &#x27;ethnicity&#x27;]),\n",
       "                                                 (&#x27;pct&#x27;,\n",
       "                                                  Pipeline(steps=[(&#x27;custom&#x27;,\n",
       "                                                                   CustomPreprocessor(preprocess_features=[&#x27;Less &#x27;\n",
       "                                                                                                           &#x27;...\n",
       "                                                                                                           &#x27;or &#x27;\n",
       "                                                                                                           &#x27;more&#x27;])),\n",
       "                                                                  (&#x27;imputer&#x27;,\n",
       "                                                                   SimpleImputer(strategy=&#x27;median&#x27;)),\n",
       "                                                                  (&#x27;scaler&#x27;,\n",
       "                                                                   StandardScaler())]),\n",
       "                                                  [&#x27;Less than $10,000&#x27;,\n",
       "                                                   &#x27;$10,000 to $14,999&#x27;,\n",
       "                                                   &#x27;$15,000 to $24,999&#x27;,\n",
       "                                                   &#x27;$25,000 to $34,999&#x27;,\n",
       "                                                   &#x27;$35,000 to $49,999&#x27;,\n",
       "                                                   &#x27;$50,000 to $74,999&#x27;,\n",
       "                                                   &#x27;$75,000 to $99,999&#x27;,\n",
       "                                                   &#x27;$100,000 to $149,999&#x27;,\n",
       "                                                   &#x27;$150,000 to $199,999&#x27;,\n",
       "                                                   &#x27;$200,000 or more&#x27;])])),\n",
       "                (&#x27;randomforestregressor&#x27;,\n",
       "                 RandomForestRegressor(random_state=42))])</pre></div></div></div><div class=\"sk-serial\"><div class=\"sk-item\"><div class=\"sk-serial\"><div class=\"sk-item sk-dashed-wrapped\"><div class=\"sk-label-container\"><div class=\"sk-label sk-toggleable\"><input class=\"sk-toggleable__control sk-hidden--visually\" id=\"sk-estimator-id-10\" type=\"checkbox\" ><label for=\"sk-estimator-id-10\" class=\"sk-toggleable__label sk-toggleable__label-arrow\">columntransformer: ColumnTransformer</label><div class=\"sk-toggleable__content\"><pre>ColumnTransformer(transformers=[(&#x27;cat&#x27;,\n",
       "                                 Pipeline(steps=[(&#x27;imputer&#x27;,\n",
       "                                                  SimpleImputer(strategy=&#x27;most_frequent&#x27;)),\n",
       "                                                 (&#x27;onehot&#x27;,\n",
       "                                                  OneHotEncoder(handle_unknown=&#x27;ignore&#x27;))]),\n",
       "                                 [&#x27;County&#x27;, &#x27;State&#x27;, &#x27;Total&#x27;, &#x27;Median income&#x27;,\n",
       "                                  &#x27;Mean income&#x27;, &#x27;Sex&#x27;, &#x27;ethnicity&#x27;]),\n",
       "                                (&#x27;pct&#x27;,\n",
       "                                 Pipeline(steps=[(&#x27;custom&#x27;,\n",
       "                                                  CustomPreprocessor(preprocess_features=[&#x27;Less &#x27;\n",
       "                                                                                          &#x27;than &#x27;\n",
       "                                                                                          &#x27;$10,000&#x27;,\n",
       "                                                                                          &#x27;$10,000 &#x27;\n",
       "                                                                                          &#x27;to &#x27;\n",
       "                                                                                          &#x27;$14,999&#x27;...\n",
       "                                                                                          &#x27;$99,999&#x27;,\n",
       "                                                                                          &#x27;$100,000 &#x27;\n",
       "                                                                                          &#x27;to &#x27;\n",
       "                                                                                          &#x27;$149,999&#x27;,\n",
       "                                                                                          &#x27;$150,000 &#x27;\n",
       "                                                                                          &#x27;to &#x27;\n",
       "                                                                                          &#x27;$199,999&#x27;,\n",
       "                                                                                          &#x27;$200,000 &#x27;\n",
       "                                                                                          &#x27;or &#x27;\n",
       "                                                                                          &#x27;more&#x27;])),\n",
       "                                                 (&#x27;imputer&#x27;,\n",
       "                                                  SimpleImputer(strategy=&#x27;median&#x27;)),\n",
       "                                                 (&#x27;scaler&#x27;, StandardScaler())]),\n",
       "                                 [&#x27;Less than $10,000&#x27;, &#x27;$10,000 to $14,999&#x27;,\n",
       "                                  &#x27;$15,000 to $24,999&#x27;, &#x27;$25,000 to $34,999&#x27;,\n",
       "                                  &#x27;$35,000 to $49,999&#x27;, &#x27;$50,000 to $74,999&#x27;,\n",
       "                                  &#x27;$75,000 to $99,999&#x27;, &#x27;$100,000 to $149,999&#x27;,\n",
       "                                  &#x27;$150,000 to $199,999&#x27;,\n",
       "                                  &#x27;$200,000 or more&#x27;])])</pre></div></div></div><div class=\"sk-parallel\"><div class=\"sk-parallel-item\"><div class=\"sk-item\"><div class=\"sk-label-container\"><div class=\"sk-label sk-toggleable\"><input class=\"sk-toggleable__control sk-hidden--visually\" id=\"sk-estimator-id-11\" type=\"checkbox\" ><label for=\"sk-estimator-id-11\" class=\"sk-toggleable__label sk-toggleable__label-arrow\">cat</label><div class=\"sk-toggleable__content\"><pre>[&#x27;County&#x27;, &#x27;State&#x27;, &#x27;Total&#x27;, &#x27;Median income&#x27;, &#x27;Mean income&#x27;, &#x27;Sex&#x27;, &#x27;ethnicity&#x27;]</pre></div></div></div><div class=\"sk-serial\"><div class=\"sk-item\"><div class=\"sk-serial\"><div class=\"sk-item\"><div class=\"sk-estimator sk-toggleable\"><input class=\"sk-toggleable__control sk-hidden--visually\" id=\"sk-estimator-id-12\" type=\"checkbox\" ><label for=\"sk-estimator-id-12\" class=\"sk-toggleable__label sk-toggleable__label-arrow\">SimpleImputer</label><div class=\"sk-toggleable__content\"><pre>SimpleImputer(strategy=&#x27;most_frequent&#x27;)</pre></div></div></div><div class=\"sk-item\"><div class=\"sk-estimator sk-toggleable\"><input class=\"sk-toggleable__control sk-hidden--visually\" id=\"sk-estimator-id-13\" type=\"checkbox\" ><label for=\"sk-estimator-id-13\" class=\"sk-toggleable__label sk-toggleable__label-arrow\">OneHotEncoder</label><div class=\"sk-toggleable__content\"><pre>OneHotEncoder(handle_unknown=&#x27;ignore&#x27;)</pre></div></div></div></div></div></div></div></div><div class=\"sk-parallel-item\"><div class=\"sk-item\"><div class=\"sk-label-container\"><div class=\"sk-label sk-toggleable\"><input class=\"sk-toggleable__control sk-hidden--visually\" id=\"sk-estimator-id-14\" type=\"checkbox\" ><label for=\"sk-estimator-id-14\" class=\"sk-toggleable__label sk-toggleable__label-arrow\">pct</label><div class=\"sk-toggleable__content\"><pre>[&#x27;Less than $10,000&#x27;, &#x27;$10,000 to $14,999&#x27;, &#x27;$15,000 to $24,999&#x27;, &#x27;$25,000 to $34,999&#x27;, &#x27;$35,000 to $49,999&#x27;, &#x27;$50,000 to $74,999&#x27;, &#x27;$75,000 to $99,999&#x27;, &#x27;$100,000 to $149,999&#x27;, &#x27;$150,000 to $199,999&#x27;, &#x27;$200,000 or more&#x27;]</pre></div></div></div><div class=\"sk-serial\"><div class=\"sk-item\"><div class=\"sk-serial\"><div class=\"sk-item\"><div class=\"sk-estimator sk-toggleable\"><input class=\"sk-toggleable__control sk-hidden--visually\" id=\"sk-estimator-id-15\" type=\"checkbox\" ><label for=\"sk-estimator-id-15\" class=\"sk-toggleable__label sk-toggleable__label-arrow\">CustomPreprocessor</label><div class=\"sk-toggleable__content\"><pre>CustomPreprocessor(preprocess_features=[&#x27;Less than $10,000&#x27;,\n",
       "                                        &#x27;$10,000 to $14,999&#x27;,\n",
       "                                        &#x27;$15,000 to $24,999&#x27;,\n",
       "                                        &#x27;$25,000 to $34,999&#x27;,\n",
       "                                        &#x27;$35,000 to $49,999&#x27;,\n",
       "                                        &#x27;$50,000 to $74,999&#x27;,\n",
       "                                        &#x27;$75,000 to $99,999&#x27;,\n",
       "                                        &#x27;$100,000 to $149,999&#x27;,\n",
       "                                        &#x27;$150,000 to $199,999&#x27;,\n",
       "                                        &#x27;$200,000 or more&#x27;])</pre></div></div></div><div class=\"sk-item\"><div class=\"sk-estimator sk-toggleable\"><input class=\"sk-toggleable__control sk-hidden--visually\" id=\"sk-estimator-id-16\" type=\"checkbox\" ><label for=\"sk-estimator-id-16\" class=\"sk-toggleable__label sk-toggleable__label-arrow\">SimpleImputer</label><div class=\"sk-toggleable__content\"><pre>SimpleImputer(strategy=&#x27;median&#x27;)</pre></div></div></div><div class=\"sk-item\"><div class=\"sk-estimator sk-toggleable\"><input class=\"sk-toggleable__control sk-hidden--visually\" id=\"sk-estimator-id-17\" type=\"checkbox\" ><label for=\"sk-estimator-id-17\" class=\"sk-toggleable__label sk-toggleable__label-arrow\">StandardScaler</label><div class=\"sk-toggleable__content\"><pre>StandardScaler()</pre></div></div></div></div></div></div></div></div></div></div><div class=\"sk-item\"><div class=\"sk-estimator sk-toggleable\"><input class=\"sk-toggleable__control sk-hidden--visually\" id=\"sk-estimator-id-18\" type=\"checkbox\" ><label for=\"sk-estimator-id-18\" class=\"sk-toggleable__label sk-toggleable__label-arrow\">RandomForestRegressor</label><div class=\"sk-toggleable__content\"><pre>RandomForestRegressor(random_state=42)</pre></div></div></div></div></div></div></div></div></div></div></div></div>"
      ],
      "text/plain": [
       "RandomizedSearchCV(cv=3,\n",
       "                   estimator=Pipeline(steps=[('columntransformer',\n",
       "                                              ColumnTransformer(transformers=[('cat',\n",
       "                                                                               Pipeline(steps=[('imputer',\n",
       "                                                                                                SimpleImputer(strategy='most_frequent')),\n",
       "                                                                                               ('onehot',\n",
       "                                                                                                OneHotEncoder(handle_unknown='ignore'))]),\n",
       "                                                                               ['County',\n",
       "                                                                                'State',\n",
       "                                                                                'Total',\n",
       "                                                                                'Median '\n",
       "                                                                                'income',\n",
       "                                                                                'Mean '\n",
       "                                                                                'income',\n",
       "                                                                                'Sex',\n",
       "                                                                                'ethnicity']),\n",
       "                                                                              ('pct',\n",
       "                                                                               Pipeline(steps=[('custom',\n",
       "                                                                                                CustomPre...\n",
       "                   n_iter=50, n_jobs=-1,\n",
       "                   param_distributions={'randomforestregressor__max_depth': [None,\n",
       "                                                                             3,\n",
       "                                                                             5,\n",
       "                                                                             7],\n",
       "                                        'randomforestregressor__max_features': [None,\n",
       "                                                                                'sqrt',\n",
       "                                                                                'log2'],\n",
       "                                        'randomforestregressor__min_samples_leaf': range(1, 5),\n",
       "                                        'randomforestregressor__min_samples_split': range(2, 5),\n",
       "                                        'randomforestregressor__n_estimators': [50,\n",
       "                                                                                100,\n",
       "                                                                                200,\n",
       "                                                                                300]},\n",
       "                   random_state=42, scoring='neg_root_mean_squared_error')"
      ]
     },
     "execution_count": 48,
     "metadata": {},
     "output_type": "execute_result"
    }
   ],
   "source": [
    "model.fit(X_train, y_train)"
   ]
  },
  {
   "cell_type": "code",
   "execution_count": 49,
   "metadata": {},
   "outputs": [],
   "source": [
    "y_hat_train = model.predict(X_train)\n",
    "y_hat_test = model.predict(X_test)"
   ]
  },
  {
   "cell_type": "code",
   "execution_count": 50,
   "metadata": {},
   "outputs": [
    {
     "name": "stdout",
     "output_type": "stream",
     "text": [
      "4840.610296505682\n",
      "6868.6167798630395\n",
      "{'randomforestregressor__n_estimators': 200, 'randomforestregressor__min_samples_split': 2, 'randomforestregressor__min_samples_leaf': 4, 'randomforestregressor__max_features': None, 'randomforestregressor__max_depth': 7}\n"
     ]
    }
   ],
   "source": [
    "train_mse = mean_squared_error(y_train, y_hat_train)\n",
    "test_mse = mean_squared_error(y_test, y_hat_test)\n",
    "\n",
    "print(train_mse)\n",
    "print(test_mse)\n",
    "print(model.best_params_)"
   ]
  }
 ],
 "metadata": {
  "kernelspec": {
   "display_name": "base",
   "language": "python",
   "name": "python3"
  },
  "language_info": {
   "codemirror_mode": {
    "name": "ipython",
    "version": 3
   },
   "file_extension": ".py",
   "mimetype": "text/x-python",
   "name": "python",
   "nbconvert_exporter": "python",
   "pygments_lexer": "ipython3",
   "version": "3.11.10"
  }
 },
 "nbformat": 4,
 "nbformat_minor": 2
}
