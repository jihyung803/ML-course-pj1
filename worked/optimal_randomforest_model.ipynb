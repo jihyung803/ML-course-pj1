{
 "cells": [
  {
   "cell_type": "code",
   "execution_count": 13,
   "metadata": {},
   "outputs": [],
   "source": [
    "import numpy as np\n",
    "import os\n",
    "import pandas as pd\n",
    "import nbimporter\n",
    "from pred import preprocess_data\n",
    "from sklearn.ensemble import RandomForestRegressor\n",
    "from sklearn.metrics import mean_squared_error, r2_score\n",
    "from sklearn.model_selection import train_test_split, GridSearchCV\n",
    "from sklearn.preprocessing import PolynomialFeatures\n",
    "from sklearn.pipeline import Pipeline\n",
    "from sklearn.compose import ColumnTransformer\n",
    "from sklearn.impute import SimpleImputer\n",
    "from sklearn.preprocessing import StandardScaler, OneHotEncoder\n",
    "import statsmodels.api as sm\n",
    "from matplotlib import pyplot as plt"
   ]
  },
  {
   "cell_type": "code",
   "execution_count": 14,
   "metadata": {},
   "outputs": [],
   "source": [
    "df = pd.read_csv('../cleaned_data/merged_data.csv')"
   ]
  },
  {
   "cell_type": "code",
   "execution_count": 15,
   "metadata": {},
   "outputs": [],
   "source": [
    "X = df[['County', 'State', 'Total', 'Less than $10,000', '$10,000 to $14,999', '$15,000 to $24,999', '$25,000 to $34,999', '$35,000 to $49,999', '$50,000 to $74,999', '$75,000 to $99,999', '$100,000 to $149,999', '$150,000 to $199,999', '$200,000 or more', 'Median income', 'Mean income', 'Sex', 'ethnicity']]\n",
    "y = df['Heart Disease Mortality']"
   ]
  },
  {
   "cell_type": "code",
   "execution_count": 16,
   "metadata": {},
   "outputs": [],
   "source": [
    "X_train, X_test, y_train, y_test, preprocessor = preprocess_data(df)"
   ]
  },
  {
   "cell_type": "code",
   "execution_count": 17,
   "metadata": {},
   "outputs": [],
   "source": [
    "rf_regressor_optimized = Pipeline([\n",
    "     ('preprocessor', preprocessor),\n",
    "     ('regressor', RandomForestRegressor(random_state = 42, n_estimators = 200, max_depth = 7, max_features = None, min_samples_split=2, min_samples_leaf=4))\n",
    "     ])"
   ]
  },
  {
   "cell_type": "code",
   "execution_count": 18,
   "metadata": {},
   "outputs": [
    {
     "data": {
      "text/html": [
       "<style>#sk-container-id-2 {color: black;}#sk-container-id-2 pre{padding: 0;}#sk-container-id-2 div.sk-toggleable {background-color: white;}#sk-container-id-2 label.sk-toggleable__label {cursor: pointer;display: block;width: 100%;margin-bottom: 0;padding: 0.3em;box-sizing: border-box;text-align: center;}#sk-container-id-2 label.sk-toggleable__label-arrow:before {content: \"▸\";float: left;margin-right: 0.25em;color: #696969;}#sk-container-id-2 label.sk-toggleable__label-arrow:hover:before {color: black;}#sk-container-id-2 div.sk-estimator:hover label.sk-toggleable__label-arrow:before {color: black;}#sk-container-id-2 div.sk-toggleable__content {max-height: 0;max-width: 0;overflow: hidden;text-align: left;background-color: #f0f8ff;}#sk-container-id-2 div.sk-toggleable__content pre {margin: 0.2em;color: black;border-radius: 0.25em;background-color: #f0f8ff;}#sk-container-id-2 input.sk-toggleable__control:checked~div.sk-toggleable__content {max-height: 200px;max-width: 100%;overflow: auto;}#sk-container-id-2 input.sk-toggleable__control:checked~label.sk-toggleable__label-arrow:before {content: \"▾\";}#sk-container-id-2 div.sk-estimator input.sk-toggleable__control:checked~label.sk-toggleable__label {background-color: #d4ebff;}#sk-container-id-2 div.sk-label input.sk-toggleable__control:checked~label.sk-toggleable__label {background-color: #d4ebff;}#sk-container-id-2 input.sk-hidden--visually {border: 0;clip: rect(1px 1px 1px 1px);clip: rect(1px, 1px, 1px, 1px);height: 1px;margin: -1px;overflow: hidden;padding: 0;position: absolute;width: 1px;}#sk-container-id-2 div.sk-estimator {font-family: monospace;background-color: #f0f8ff;border: 1px dotted black;border-radius: 0.25em;box-sizing: border-box;margin-bottom: 0.5em;}#sk-container-id-2 div.sk-estimator:hover {background-color: #d4ebff;}#sk-container-id-2 div.sk-parallel-item::after {content: \"\";width: 100%;border-bottom: 1px solid gray;flex-grow: 1;}#sk-container-id-2 div.sk-label:hover label.sk-toggleable__label {background-color: #d4ebff;}#sk-container-id-2 div.sk-serial::before {content: \"\";position: absolute;border-left: 1px solid gray;box-sizing: border-box;top: 0;bottom: 0;left: 50%;z-index: 0;}#sk-container-id-2 div.sk-serial {display: flex;flex-direction: column;align-items: center;background-color: white;padding-right: 0.2em;padding-left: 0.2em;position: relative;}#sk-container-id-2 div.sk-item {position: relative;z-index: 1;}#sk-container-id-2 div.sk-parallel {display: flex;align-items: stretch;justify-content: center;background-color: white;position: relative;}#sk-container-id-2 div.sk-item::before, #sk-container-id-2 div.sk-parallel-item::before {content: \"\";position: absolute;border-left: 1px solid gray;box-sizing: border-box;top: 0;bottom: 0;left: 50%;z-index: -1;}#sk-container-id-2 div.sk-parallel-item {display: flex;flex-direction: column;z-index: 1;position: relative;background-color: white;}#sk-container-id-2 div.sk-parallel-item:first-child::after {align-self: flex-end;width: 50%;}#sk-container-id-2 div.sk-parallel-item:last-child::after {align-self: flex-start;width: 50%;}#sk-container-id-2 div.sk-parallel-item:only-child::after {width: 0;}#sk-container-id-2 div.sk-dashed-wrapped {border: 1px dashed gray;margin: 0 0.4em 0.5em 0.4em;box-sizing: border-box;padding-bottom: 0.4em;background-color: white;}#sk-container-id-2 div.sk-label label {font-family: monospace;font-weight: bold;display: inline-block;line-height: 1.2em;}#sk-container-id-2 div.sk-label-container {text-align: center;}#sk-container-id-2 div.sk-container {/* jupyter's `normalize.less` sets `[hidden] { display: none; }` but bootstrap.min.css set `[hidden] { display: none !important; }` so we also need the `!important` here to be able to override the default hidden behavior on the sphinx rendered scikit-learn.org. See: https://github.com/scikit-learn/scikit-learn/issues/21755 */display: inline-block !important;position: relative;}#sk-container-id-2 div.sk-text-repr-fallback {display: none;}</style><div id=\"sk-container-id-2\" class=\"sk-top-container\"><div class=\"sk-text-repr-fallback\"><pre>Pipeline(steps=[(&#x27;preprocessor&#x27;,\n",
       "                 ColumnTransformer(transformers=[(&#x27;cat&#x27;,\n",
       "                                                  Pipeline(steps=[(&#x27;imputer&#x27;,\n",
       "                                                                   SimpleImputer(strategy=&#x27;most_frequent&#x27;)),\n",
       "                                                                  (&#x27;onehot&#x27;,\n",
       "                                                                   OneHotEncoder(handle_unknown=&#x27;ignore&#x27;))]),\n",
       "                                                  [&#x27;County&#x27;, &#x27;State&#x27;, &#x27;Total&#x27;,\n",
       "                                                   &#x27;Median income&#x27;,\n",
       "                                                   &#x27;Mean income&#x27;, &#x27;Sex&#x27;,\n",
       "                                                   &#x27;ethnicity&#x27;]),\n",
       "                                                 (&#x27;pct&#x27;,\n",
       "                                                  Pipeline(steps=[(&#x27;custom&#x27;,\n",
       "                                                                   CustomPreprocessor(preprocess_features=[&#x27;Less &#x27;\n",
       "                                                                                                           &#x27;than &#x27;...\n",
       "                                                                   SimpleImputer(strategy=&#x27;median&#x27;)),\n",
       "                                                                  (&#x27;scaler&#x27;,\n",
       "                                                                   StandardScaler())]),\n",
       "                                                  [&#x27;Less than $10,000&#x27;,\n",
       "                                                   &#x27;$10,000 to $14,999&#x27;,\n",
       "                                                   &#x27;$15,000 to $24,999&#x27;,\n",
       "                                                   &#x27;$25,000 to $34,999&#x27;,\n",
       "                                                   &#x27;$35,000 to $49,999&#x27;,\n",
       "                                                   &#x27;$50,000 to $74,999&#x27;,\n",
       "                                                   &#x27;$75,000 to $99,999&#x27;,\n",
       "                                                   &#x27;$100,000 to $149,999&#x27;,\n",
       "                                                   &#x27;$150,000 to $199,999&#x27;,\n",
       "                                                   &#x27;$200,000 or more&#x27;])])),\n",
       "                (&#x27;regressor&#x27;,\n",
       "                 RandomForestRegressor(max_depth=7, max_features=None,\n",
       "                                       min_samples_leaf=4, n_estimators=200,\n",
       "                                       random_state=42))])</pre><b>In a Jupyter environment, please rerun this cell to show the HTML representation or trust the notebook. <br />On GitHub, the HTML representation is unable to render, please try loading this page with nbviewer.org.</b></div><div class=\"sk-container\" hidden><div class=\"sk-item sk-dashed-wrapped\"><div class=\"sk-label-container\"><div class=\"sk-label sk-toggleable\"><input class=\"sk-toggleable__control sk-hidden--visually\" id=\"sk-estimator-id-11\" type=\"checkbox\" ><label for=\"sk-estimator-id-11\" class=\"sk-toggleable__label sk-toggleable__label-arrow\">Pipeline</label><div class=\"sk-toggleable__content\"><pre>Pipeline(steps=[(&#x27;preprocessor&#x27;,\n",
       "                 ColumnTransformer(transformers=[(&#x27;cat&#x27;,\n",
       "                                                  Pipeline(steps=[(&#x27;imputer&#x27;,\n",
       "                                                                   SimpleImputer(strategy=&#x27;most_frequent&#x27;)),\n",
       "                                                                  (&#x27;onehot&#x27;,\n",
       "                                                                   OneHotEncoder(handle_unknown=&#x27;ignore&#x27;))]),\n",
       "                                                  [&#x27;County&#x27;, &#x27;State&#x27;, &#x27;Total&#x27;,\n",
       "                                                   &#x27;Median income&#x27;,\n",
       "                                                   &#x27;Mean income&#x27;, &#x27;Sex&#x27;,\n",
       "                                                   &#x27;ethnicity&#x27;]),\n",
       "                                                 (&#x27;pct&#x27;,\n",
       "                                                  Pipeline(steps=[(&#x27;custom&#x27;,\n",
       "                                                                   CustomPreprocessor(preprocess_features=[&#x27;Less &#x27;\n",
       "                                                                                                           &#x27;than &#x27;...\n",
       "                                                                   SimpleImputer(strategy=&#x27;median&#x27;)),\n",
       "                                                                  (&#x27;scaler&#x27;,\n",
       "                                                                   StandardScaler())]),\n",
       "                                                  [&#x27;Less than $10,000&#x27;,\n",
       "                                                   &#x27;$10,000 to $14,999&#x27;,\n",
       "                                                   &#x27;$15,000 to $24,999&#x27;,\n",
       "                                                   &#x27;$25,000 to $34,999&#x27;,\n",
       "                                                   &#x27;$35,000 to $49,999&#x27;,\n",
       "                                                   &#x27;$50,000 to $74,999&#x27;,\n",
       "                                                   &#x27;$75,000 to $99,999&#x27;,\n",
       "                                                   &#x27;$100,000 to $149,999&#x27;,\n",
       "                                                   &#x27;$150,000 to $199,999&#x27;,\n",
       "                                                   &#x27;$200,000 or more&#x27;])])),\n",
       "                (&#x27;regressor&#x27;,\n",
       "                 RandomForestRegressor(max_depth=7, max_features=None,\n",
       "                                       min_samples_leaf=4, n_estimators=200,\n",
       "                                       random_state=42))])</pre></div></div></div><div class=\"sk-serial\"><div class=\"sk-item sk-dashed-wrapped\"><div class=\"sk-label-container\"><div class=\"sk-label sk-toggleable\"><input class=\"sk-toggleable__control sk-hidden--visually\" id=\"sk-estimator-id-12\" type=\"checkbox\" ><label for=\"sk-estimator-id-12\" class=\"sk-toggleable__label sk-toggleable__label-arrow\">preprocessor: ColumnTransformer</label><div class=\"sk-toggleable__content\"><pre>ColumnTransformer(transformers=[(&#x27;cat&#x27;,\n",
       "                                 Pipeline(steps=[(&#x27;imputer&#x27;,\n",
       "                                                  SimpleImputer(strategy=&#x27;most_frequent&#x27;)),\n",
       "                                                 (&#x27;onehot&#x27;,\n",
       "                                                  OneHotEncoder(handle_unknown=&#x27;ignore&#x27;))]),\n",
       "                                 [&#x27;County&#x27;, &#x27;State&#x27;, &#x27;Total&#x27;, &#x27;Median income&#x27;,\n",
       "                                  &#x27;Mean income&#x27;, &#x27;Sex&#x27;, &#x27;ethnicity&#x27;]),\n",
       "                                (&#x27;pct&#x27;,\n",
       "                                 Pipeline(steps=[(&#x27;custom&#x27;,\n",
       "                                                  CustomPreprocessor(preprocess_features=[&#x27;Less &#x27;\n",
       "                                                                                          &#x27;than &#x27;\n",
       "                                                                                          &#x27;$10,000&#x27;,\n",
       "                                                                                          &#x27;$10,000 &#x27;\n",
       "                                                                                          &#x27;to &#x27;\n",
       "                                                                                          &#x27;$14,999&#x27;...\n",
       "                                                                                          &#x27;$99,999&#x27;,\n",
       "                                                                                          &#x27;$100,000 &#x27;\n",
       "                                                                                          &#x27;to &#x27;\n",
       "                                                                                          &#x27;$149,999&#x27;,\n",
       "                                                                                          &#x27;$150,000 &#x27;\n",
       "                                                                                          &#x27;to &#x27;\n",
       "                                                                                          &#x27;$199,999&#x27;,\n",
       "                                                                                          &#x27;$200,000 &#x27;\n",
       "                                                                                          &#x27;or &#x27;\n",
       "                                                                                          &#x27;more&#x27;])),\n",
       "                                                 (&#x27;imputer&#x27;,\n",
       "                                                  SimpleImputer(strategy=&#x27;median&#x27;)),\n",
       "                                                 (&#x27;scaler&#x27;, StandardScaler())]),\n",
       "                                 [&#x27;Less than $10,000&#x27;, &#x27;$10,000 to $14,999&#x27;,\n",
       "                                  &#x27;$15,000 to $24,999&#x27;, &#x27;$25,000 to $34,999&#x27;,\n",
       "                                  &#x27;$35,000 to $49,999&#x27;, &#x27;$50,000 to $74,999&#x27;,\n",
       "                                  &#x27;$75,000 to $99,999&#x27;, &#x27;$100,000 to $149,999&#x27;,\n",
       "                                  &#x27;$150,000 to $199,999&#x27;,\n",
       "                                  &#x27;$200,000 or more&#x27;])])</pre></div></div></div><div class=\"sk-parallel\"><div class=\"sk-parallel-item\"><div class=\"sk-item\"><div class=\"sk-label-container\"><div class=\"sk-label sk-toggleable\"><input class=\"sk-toggleable__control sk-hidden--visually\" id=\"sk-estimator-id-13\" type=\"checkbox\" ><label for=\"sk-estimator-id-13\" class=\"sk-toggleable__label sk-toggleable__label-arrow\">cat</label><div class=\"sk-toggleable__content\"><pre>[&#x27;County&#x27;, &#x27;State&#x27;, &#x27;Total&#x27;, &#x27;Median income&#x27;, &#x27;Mean income&#x27;, &#x27;Sex&#x27;, &#x27;ethnicity&#x27;]</pre></div></div></div><div class=\"sk-serial\"><div class=\"sk-item\"><div class=\"sk-serial\"><div class=\"sk-item\"><div class=\"sk-estimator sk-toggleable\"><input class=\"sk-toggleable__control sk-hidden--visually\" id=\"sk-estimator-id-14\" type=\"checkbox\" ><label for=\"sk-estimator-id-14\" class=\"sk-toggleable__label sk-toggleable__label-arrow\">SimpleImputer</label><div class=\"sk-toggleable__content\"><pre>SimpleImputer(strategy=&#x27;most_frequent&#x27;)</pre></div></div></div><div class=\"sk-item\"><div class=\"sk-estimator sk-toggleable\"><input class=\"sk-toggleable__control sk-hidden--visually\" id=\"sk-estimator-id-15\" type=\"checkbox\" ><label for=\"sk-estimator-id-15\" class=\"sk-toggleable__label sk-toggleable__label-arrow\">OneHotEncoder</label><div class=\"sk-toggleable__content\"><pre>OneHotEncoder(handle_unknown=&#x27;ignore&#x27;)</pre></div></div></div></div></div></div></div></div><div class=\"sk-parallel-item\"><div class=\"sk-item\"><div class=\"sk-label-container\"><div class=\"sk-label sk-toggleable\"><input class=\"sk-toggleable__control sk-hidden--visually\" id=\"sk-estimator-id-16\" type=\"checkbox\" ><label for=\"sk-estimator-id-16\" class=\"sk-toggleable__label sk-toggleable__label-arrow\">pct</label><div class=\"sk-toggleable__content\"><pre>[&#x27;Less than $10,000&#x27;, &#x27;$10,000 to $14,999&#x27;, &#x27;$15,000 to $24,999&#x27;, &#x27;$25,000 to $34,999&#x27;, &#x27;$35,000 to $49,999&#x27;, &#x27;$50,000 to $74,999&#x27;, &#x27;$75,000 to $99,999&#x27;, &#x27;$100,000 to $149,999&#x27;, &#x27;$150,000 to $199,999&#x27;, &#x27;$200,000 or more&#x27;]</pre></div></div></div><div class=\"sk-serial\"><div class=\"sk-item\"><div class=\"sk-serial\"><div class=\"sk-item\"><div class=\"sk-estimator sk-toggleable\"><input class=\"sk-toggleable__control sk-hidden--visually\" id=\"sk-estimator-id-17\" type=\"checkbox\" ><label for=\"sk-estimator-id-17\" class=\"sk-toggleable__label sk-toggleable__label-arrow\">CustomPreprocessor</label><div class=\"sk-toggleable__content\"><pre>CustomPreprocessor(preprocess_features=[&#x27;Less than $10,000&#x27;,\n",
       "                                        &#x27;$10,000 to $14,999&#x27;,\n",
       "                                        &#x27;$15,000 to $24,999&#x27;,\n",
       "                                        &#x27;$25,000 to $34,999&#x27;,\n",
       "                                        &#x27;$35,000 to $49,999&#x27;,\n",
       "                                        &#x27;$50,000 to $74,999&#x27;,\n",
       "                                        &#x27;$75,000 to $99,999&#x27;,\n",
       "                                        &#x27;$100,000 to $149,999&#x27;,\n",
       "                                        &#x27;$150,000 to $199,999&#x27;,\n",
       "                                        &#x27;$200,000 or more&#x27;])</pre></div></div></div><div class=\"sk-item\"><div class=\"sk-estimator sk-toggleable\"><input class=\"sk-toggleable__control sk-hidden--visually\" id=\"sk-estimator-id-18\" type=\"checkbox\" ><label for=\"sk-estimator-id-18\" class=\"sk-toggleable__label sk-toggleable__label-arrow\">SimpleImputer</label><div class=\"sk-toggleable__content\"><pre>SimpleImputer(strategy=&#x27;median&#x27;)</pre></div></div></div><div class=\"sk-item\"><div class=\"sk-estimator sk-toggleable\"><input class=\"sk-toggleable__control sk-hidden--visually\" id=\"sk-estimator-id-19\" type=\"checkbox\" ><label for=\"sk-estimator-id-19\" class=\"sk-toggleable__label sk-toggleable__label-arrow\">StandardScaler</label><div class=\"sk-toggleable__content\"><pre>StandardScaler()</pre></div></div></div></div></div></div></div></div></div></div><div class=\"sk-item\"><div class=\"sk-estimator sk-toggleable\"><input class=\"sk-toggleable__control sk-hidden--visually\" id=\"sk-estimator-id-20\" type=\"checkbox\" ><label for=\"sk-estimator-id-20\" class=\"sk-toggleable__label sk-toggleable__label-arrow\">RandomForestRegressor</label><div class=\"sk-toggleable__content\"><pre>RandomForestRegressor(max_depth=7, max_features=None, min_samples_leaf=4,\n",
       "                      n_estimators=200, random_state=42)</pre></div></div></div></div></div></div></div>"
      ],
      "text/plain": [
       "Pipeline(steps=[('preprocessor',\n",
       "                 ColumnTransformer(transformers=[('cat',\n",
       "                                                  Pipeline(steps=[('imputer',\n",
       "                                                                   SimpleImputer(strategy='most_frequent')),\n",
       "                                                                  ('onehot',\n",
       "                                                                   OneHotEncoder(handle_unknown='ignore'))]),\n",
       "                                                  ['County', 'State', 'Total',\n",
       "                                                   'Median income',\n",
       "                                                   'Mean income', 'Sex',\n",
       "                                                   'ethnicity']),\n",
       "                                                 ('pct',\n",
       "                                                  Pipeline(steps=[('custom',\n",
       "                                                                   CustomPreprocessor(preprocess_features=['Less '\n",
       "                                                                                                           'than '...\n",
       "                                                                   SimpleImputer(strategy='median')),\n",
       "                                                                  ('scaler',\n",
       "                                                                   StandardScaler())]),\n",
       "                                                  ['Less than $10,000',\n",
       "                                                   '$10,000 to $14,999',\n",
       "                                                   '$15,000 to $24,999',\n",
       "                                                   '$25,000 to $34,999',\n",
       "                                                   '$35,000 to $49,999',\n",
       "                                                   '$50,000 to $74,999',\n",
       "                                                   '$75,000 to $99,999',\n",
       "                                                   '$100,000 to $149,999',\n",
       "                                                   '$150,000 to $199,999',\n",
       "                                                   '$200,000 or more'])])),\n",
       "                ('regressor',\n",
       "                 RandomForestRegressor(max_depth=7, max_features=None,\n",
       "                                       min_samples_leaf=4, n_estimators=200,\n",
       "                                       random_state=42))])"
      ]
     },
     "execution_count": 18,
     "metadata": {},
     "output_type": "execute_result"
    }
   ],
   "source": [
    "rf_regressor_optimized.fit(X_train, y_train)"
   ]
  },
  {
   "cell_type": "code",
   "execution_count": 19,
   "metadata": {},
   "outputs": [],
   "source": [
    "y_hat_test = rf_regressor_optimized.predict(X_test)\n",
    "y_hat_train = rf_regressor_optimized.predict(X_train)"
   ]
  },
  {
   "cell_type": "code",
   "execution_count": 20,
   "metadata": {},
   "outputs": [
    {
     "name": "stdout",
     "output_type": "stream",
     "text": [
      "101.9723465727707\n",
      "0.5830582762509917\n"
     ]
    }
   ],
   "source": [
    "test_mse = mean_squared_error(y_test, y_hat_test)\n",
    "rmse = np.sqrt(test_mse)\n",
    "r_squared = r2_score(y_test, y_hat_test)\n",
    "print(rmse)\n",
    "print(r_squared)"
   ]
  },
  {
   "cell_type": "code",
   "execution_count": 21,
   "metadata": {},
   "outputs": [
    {
     "name": "stdout",
     "output_type": "stream",
     "text": [
      "[0.         0.         0.         ... 0.01432179 0.00835415 0.01799095]\n"
     ]
    }
   ],
   "source": [
    "print(rf_regressor_optimized.named_steps['regressor'].feature_importances_)"
   ]
  },
  {
   "cell_type": "code",
   "execution_count": 22,
   "metadata": {},
   "outputs": [],
   "source": [
    "e = (y_train - y_hat_train)\n",
    "std_residuals = (e - e.mean()) / e.std(ddof=1)"
   ]
  },
  {
   "cell_type": "code",
   "execution_count": 23,
   "metadata": {},
   "outputs": [
    {
     "data": {
      "image/png": "[encoded data removed]",
      "text/plain": [
       "<Figure size 640x480 with 1 Axes>"
      ]
     },
     "metadata": {},
     "output_type": "display_data"
    }
   ],
   "source": [
    "sm.qqplot(std_residuals, line=\"45\")\n",
    "plt.show()"
   ]
  }
 ],
 "metadata": {
  "kernelspec": {
   "display_name": "base",
   "language": "python",
   "name": "python3"
  },
  "language_info": {
   "codemirror_mode": {
    "name": "ipython",
    "version": 3
   },
   "file_extension": ".py",
   "mimetype": "text/x-python",
   "name": "python",
   "nbconvert_exporter": "python",
   "pygments_lexer": "ipython3",
   "version": "3.11.10"
  }
 },
 "nbformat": 4,
 "nbformat_minor": 2
}
